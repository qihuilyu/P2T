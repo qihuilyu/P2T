{
 "cells": [
  {
   "cell_type": "code",
   "execution_count": 81,
   "metadata": {},
   "outputs": [],
   "source": [
    "import struct\n",
    "import numpy as np"
   ]
  },
  {
   "cell_type": "code",
   "execution_count": 83,
   "metadata": {},
   "outputs": [],
   "source": [
    "def load_sparse_data(fname):\n",
    "    with open(fname, 'rb') as fd:\n",
    "        magic = b''\n",
    "        for b in struct.unpack('4c', fd.read(4)):\n",
    "            magic += b\n",
    "        if magic != b'\\x00\\x00\\xae\\xfd':\n",
    "            raise RuntimeError(\"Filetype does not match expected for sparse data\")\n",
    "        \n",
    "        # load array size\n",
    "        size = struct.unpack('3I', fd.read(12))\n",
    "        \n",
    "        # load nnz\n",
    "        nnz = struct.unpack('L', fd.read(8))[0]\n",
    "        \n",
    "        # load indices\n",
    "        index = struct.unpack('{:d}L'.format(nnz), fd.read(nnz*8))\n",
    "        \n",
    "        # load values\n",
    "        value = struct.unpack('{:d}d'.format(nnz), fd.read(nnz*8))\n",
    "    return size, index, value\n",
    "\n",
    "def sparse2dense(size, index, value):\n",
    "    \"\"\"convert sparse data (COO) to dense array\"\"\"\n",
    "    arr = np.zeros(np.product(size))\n",
    "    for idx, val in zip(index, value):\n",
    "        arr[idx] = val\n",
    "    return arr.reshape(size[::-1])"
   ]
  },
  {
   "cell_type": "code",
   "execution_count": 86,
   "metadata": {},
   "outputs": [],
   "source": [
    "size, index, value = load_sparse_data('dose3d.bin')\n",
    "dense = sparse2dense(size, index, value)"
   ]
  },
  {
   "cell_type": "code",
   "execution_count": null,
   "metadata": {},
   "outputs": [],
   "source": [
    "import matplotlib.pyplot as plt\n",
    "for ii in range(0, dense.shape[0], 2):\n",
    "    plt.figure()\n",
    "    plt.imshow(dense[ii])\n",
    "    plt.show()\n"
   ]
  },
  {
   "cell_type": "code",
   "execution_count": null,
   "metadata": {},
   "outputs": [],
   "source": []
  }
 ],
 "metadata": {
  "kernelspec": {
   "display_name": "Python 3",
   "language": "python",
   "name": "python3"
  },
  "language_info": {
   "codemirror_mode": {
    "name": "ipython",
    "version": 3
   },
   "file_extension": ".py",
   "mimetype": "text/x-python",
   "name": "python",
   "nbconvert_exporter": "python",
   "pygments_lexer": "ipython3",
   "version": "3.6.8"
  }
 },
 "nbformat": 4,
 "nbformat_minor": 4
}
