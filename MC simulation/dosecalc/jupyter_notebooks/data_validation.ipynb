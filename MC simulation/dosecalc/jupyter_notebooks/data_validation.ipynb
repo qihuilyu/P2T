{
 "cells": [
  {
   "cell_type": "code",
   "execution_count": 68,
   "metadata": {},
   "outputs": [],
   "source": [
    "import sys, os\n",
    "from os.path import join as pjoin\n",
    "\n",
    "import numpy as np\n",
    "import scipy.stats as stats\n",
    "import scipy.sparse as sparse\n",
    "#import scipy.linalg as linalg\n",
    "#import scipy.sparse.linalg as splinalg\n",
    "import h5py\n",
    "import matplotlib.pyplot as plt\n",
    "import seaborn as sns"
   ]
  },
  {
   "cell_type": "code",
   "execution_count": 76,
   "metadata": {},
   "outputs": [],
   "source": [
    "# LOAD DATA\n",
    "root = '/media/hdd1/g4sim/beamlet_dose/HN011/1.5T'\n",
    "def load_sparse_mat(fp):\n",
    "    with h5py.File(fp, 'r') as fd:\n",
    "        d = fd['data'][()]\n",
    "        i = fd['i'][()]\n",
    "        j = fd['j'][()]\n",
    "        ncols = fd['ncols'][()]\n",
    "        nrows = fd['nrows'][()]\n",
    "    return sparse.coo_matrix((d, (i, j)), shape=(nrows, ncols)).tocsr()\n",
    "\n",
    "sp_noisy = load_sparse_mat(pjoin(root, '5000', 'beamlet_dose_noisy.h5'))\n",
    "sp_pred  = load_sparse_mat(pjoin(root, '5000', 'beamlet_dose_predicted.h5'))\n",
    "sp_true  = load_sparse_mat(pjoin(root,  '1e5', 'beamlet_dose_true.h5'))\n"
   ]
  },
  {
   "cell_type": "code",
   "execution_count": 78,
   "metadata": {},
   "outputs": [
    {
     "name": "stdout",
     "output_type": "stream",
     "text": [
      "True M:\n",
      "storage:     1260.4 MB\n",
      "shape:       (2408256, 2111)\n",
      "nnz:         164004500\n",
      "sparsity:    3.23%\n",
      "mean:        3.725e-01\n",
      "min:         0.000e+00\n",
      "max:         3.107e+03\n",
      "mean (nz):   1.155e+01\n",
      "median (nz): 1.882e+00\n",
      "min  (nz):   7.341e-02\n",
      "max  (nz):   3.107e+03\n",
      "\n",
      "Pred M:\n",
      "storage:     2323.7 MB\n",
      "shape:       (2408256, 2111)\n",
      "nnz:         303365548\n",
      "sparsity:    5.97%\n",
      "mean:        2.480e-01\n",
      "min:         0.000e+00\n",
      "max:         2.368e+03\n",
      "mean (nz):   4.156e+00\n",
      "median (nz): 5.156e-01\n",
      "min  (nz):   6.238e-02\n",
      "max  (nz):   2.368e+03\n",
      "\n",
      "Noisy M:\n",
      "storage:     136.7 MB\n",
      "shape:       (2408256, 2111)\n",
      "nnz:         16707856\n",
      "sparsity:    0.33%\n",
      "mean:        3.749e-01\n",
      "min:         0.000e+00\n",
      "max:         1.108e+04\n",
      "mean (nz):   1.141e+02\n",
      "median (nz): 3.125e+01\n",
      "min  (nz):   2.399e-01\n",
      "max  (nz):   1.108e+04\n"
     ]
    }
   ],
   "source": [
    "# PRINT STATS\n",
    "def print_matrix_stats(spmat: sparse.spmatrix):\n",
    "    assert spmat.nnz == spmat.count_nonzero()\n",
    "    print('storage:     {:0.1f} MB'.format((spmat.data.nbytes + spmat.indices.nbytes + spmat.indptr.nbytes)/1024.0/1024.0))\n",
    "    print('shape:       {!s}'.format(spmat.shape))\n",
    "    print('nnz:         {}'.format(spmat.nnz))\n",
    "    print('sparsity:    {:0.2%}'.format(float(spmat.nnz) / np.product(spmat.shape)))\n",
    "    for lb, v in (\n",
    "        ('mean', spmat.mean()),\n",
    "        ('min', spmat.min()),\n",
    "        ('max', spmat.max()),\n",
    "        ('mean (nz)', np.mean(spmat.data)),\n",
    "        ('median (nz)', np.median(spmat.data)),\n",
    "        ('min  (nz)', np.amin(spmat.data)),\n",
    "        ('max  (nz)', np.amax(spmat.data)),\n",
    "    ):\n",
    "        print('{:12s} {:0.3e}'.format(lb.rstrip(':')+':', v))\n",
    "        \n",
    "    # fig = plt.figure()\n",
    "    # ax = fig.add_axes([0,0,1,1])\n",
    "    # sns.distplot(spmat.data, kde=False, rug=True, ax=ax)\n",
    "    # plt.show()\n",
    "\n",
    "print('True M:')\n",
    "print_matrix_stats(sp_true)\n",
    "print()\n",
    "print('Pred M:')\n",
    "print_matrix_stats(sp_pred)\n",
    "print()\n",
    "print('Noisy M:')\n",
    "print_matrix_stats(sp_noisy)"
   ]
  },
  {
   "cell_type": "code",
   "execution_count": null,
   "metadata": {},
   "outputs": [],
   "source": []
  }
 ],
 "metadata": {
  "kernelspec": {
   "display_name": "Python 3",
   "language": "python",
   "name": "python3"
  },
  "language_info": {
   "codemirror_mode": {
    "name": "ipython",
    "version": 3
   },
   "file_extension": ".py",
   "mimetype": "text/x-python",
   "name": "python",
   "nbconvert_exporter": "python",
   "pygments_lexer": "ipython3",
   "version": "3.6.8"
  }
 },
 "nbformat": 4,
 "nbformat_minor": 4
}
