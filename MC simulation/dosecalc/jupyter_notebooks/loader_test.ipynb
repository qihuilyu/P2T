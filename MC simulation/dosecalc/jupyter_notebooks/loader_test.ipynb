{
 "cells": [
  {
   "cell_type": "code",
   "execution_count": 31,
   "metadata": {},
   "outputs": [
    {
     "name": "stdout",
     "output_type": "stream",
     "text": [
      "The autoreload extension is already loaded. To reload it, use:\n",
      "  %reload_ext autoreload\n"
     ]
    }
   ],
   "source": [
    "%load_ext autoreload\n",
    "%autoreload 1\n",
    "%matplotlib inline"
   ]
  },
  {
   "cell_type": "code",
   "execution_count": 32,
   "metadata": {},
   "outputs": [],
   "source": [
    "import os, sys\n",
    "from os.path import join as pjoin\n",
    "sys.path.insert(0, pjoin(os.path.pardir, 'webapi'))\n",
    "sys.path.insert(0, pjoin(os.path.pardir, os.path.pardir, 'mcdose'))\n",
    "import numpy as np\n",
    "import h5py\n",
    "from bson import ObjectId\n",
    "from matplotlib.colors import Normalize\n",
    "import matplotlib.pyplot as plt\n",
    "\n",
    "os.environ['CUDA_VISIBLE_DEVICES'] = \"\"\n",
    "%aimport loaders\n",
    "%aimport mcdose\n",
    "from mcdose.visualize import vis_slice\n",
    "import database\n",
    "from api_enums import DBCOLLECTIONS"
   ]
  },
  {
   "cell_type": "code",
   "execution_count": 33,
   "metadata": {},
   "outputs": [
    {
     "data": {
      "text/plain": [
       "<database.InitDataStorage at 0x7f115f9580b8>"
      ]
     },
     "execution_count": 33,
     "metadata": {},
     "output_type": "execute_result"
    }
   ],
   "source": [
    "# connect to database\n",
    "database.init_dbclient(port=27099, auth=['root', 'rootpass'])\n",
    "database.InitDataStorage(root='/media/hdd2/g4sim/data')"
   ]
  },
  {
   "cell_type": "code",
   "execution_count": 34,
   "metadata": {},
   "outputs": [
    {
     "name": "stdout",
     "output_type": "stream",
     "text": [
      "285\n"
     ]
    }
   ],
   "source": [
    "# get list of simdocs\n",
    "beam_id = '5e15407ec9c073745a01ced3'\n",
    "filter = {'_id': ObjectId(beam_id)}\n",
    "beamdoc = database.db[DBCOLLECTIONS.BEAMPHOTON].find_one(filter)\n",
    "\n",
    "# get sim_ids\n",
    "sim_ids = []\n",
    "filter = {'beam_id': ObjectId(beam_id), 'num_particles': 2000, 'magnetic_field.2': 1.5}\n",
    "for simdoc in database.db[DBCOLLECTIONS.SIMULATION].find(filter):\n",
    "    sim_ids.append(simdoc['_id'])\n",
    "print(len(sim_ids))"
   ]
  },
  {
   "cell_type": "code",
   "execution_count": 35,
   "metadata": {},
   "outputs": [],
   "source": [
    "def draw_coordsys(orig_geom, orig_label, proc_geom, proc_label, unprocessor):\n",
    "    import math\n",
    "    import numpy as np\n",
    "    import scipy.ndimage as ndimage\n",
    "    from matplotlib import patches\n",
    "    colors = ['red', 'blue', 'green', 'orange', 'black', 'purple']\n",
    "    # calculate corresponding slices\n",
    "    proc_ctr_slice = proc_geom.shape[0]//2\n",
    "    sp = unprocessor.proc_csys['start'][2]\n",
    "    so = unprocessor.orig_csys['start'][2]\n",
    "    sizep = unprocessor.proc_csys['size'][2]\n",
    "    spacep = unprocessor.proc_csys['spacing'][2]\n",
    "    spaceo = unprocessor.orig_csys['spacing'][2]\n",
    "    orig_ctr_slice = int((sp-so+0.5*sizep*spacep)/spaceo)\n",
    "    # pack up data\n",
    "    data = [\n",
    "        (unprocessor.orig_csys, orig_geom[orig_ctr_slice], orig_label[orig_ctr_slice]),\n",
    "        (unprocessor.proc_csys, proc_geom[proc_ctr_slice], proc_label[proc_ctr_slice]),\n",
    "    ]\n",
    "    fig = plt.figure()\n",
    "    ax = fig.add_axes([0,0,1,1])\n",
    "    ax.grid()\n",
    "    for ii, (clr, (csys, geom, label)) in enumerate(zip(colors[:len(data)], data)):\n",
    "        # draw coordinate system bounds\n",
    "        ax.text(csys['start'][0]+10, csys['start'][1]+10, str(ii), horizontalalignment='left', verticalalignment='top', zorder=99+ii, color=clr)\n",
    "        ax.add_patch(patches.Circle((csys['start'][:2]), radius=8, zorder=99+ii, facecolor=clr, edgecolor='black'))\n",
    "        ax.add_patch(patches.Rectangle((csys['start']), csys['size'][0]*csys['spacing'][0], csys['size'][1]*csys['spacing'][1],\n",
    "                                       fill=False, angle=0 if ii==0 else unprocessor.angle_radian*180.0/math.pi, color=clr, linewidth=2,\n",
    "                                       zorder=99+ii))\n",
    "        _, aims = vis_slice(geom, label, thresh=1e-3, ax=ax)\n",
    "        for jj, aim in enumerate(aims):\n",
    "            aim.set_extent((\n",
    "                csys['start'][0], csys['start'][0]+csys['size'][0]*csys['spacing'][0],\n",
    "                csys['start'][1]+csys['size'][1]*csys['spacing'][1], csys['start'][1],\n",
    "            ))\n",
    "            aim.set_alpha(0.8)\n",
    "    ax.tick_params(axis='x', labeltop=True, labelbottom=False, top=True, bottom=False)\n",
    "    ax.autoscale_view()"
   ]
  },
  {
   "cell_type": "code",
   "execution_count": 36,
   "metadata": {},
   "outputs": [],
   "source": [
    "simdoc = database.db[DBCOLLECTIONS.SIMULATION].find_one({'_id': sim_ids[140]})"
   ]
  },
  {
   "cell_type": "code",
   "execution_count": 44,
   "metadata": {},
   "outputs": [
    {
     "name": "stdout",
     "output_type": "stream",
     "text": [
      "min:  -240.4294985444228\n",
      "max:  2522.6562094405235\n",
      "mean:  0.11269426521718186\n",
      "std:  4.114490449412109\n",
      "orig coordsys:  {'spacing': [2.5, 2.5, 2.5], 'start': [-240.0, -364.0, -657.0], 'size': [192, 113, 111]}\n",
      "new coordsys:   {'spacing': [2.5, 2.5, 2.5], 'start': array([  73.42230002, -104.10743449, -534.41964833]), 'size': array([ 25, 111,   9])}\n"
     ]
    },
    {
     "data": {
      "image/png": "[encoded data removed]",
      "text/plain": [
       "<Figure size 432x288 with 1 Axes>"
      ]
     },
     "metadata": {
      "needs_background": "light"
     },
     "output_type": "display_data"
    }
   ],
   "source": [
    "# Test Vanilla Loading\n",
    "ctx = 4\n",
    "arrayloader_orig = loaders.ArrayLoader(reorient=False, get_geom=True, get_label=True)\n",
    "arrayloader = loaders.ArrayLoader(reorient=True, context=(12,55,ctx), get_geom=True, get_label=True, reversible=True)\n",
    "\n",
    "(orig_inputs, orig_geom, orig_label) = arrayloader_orig(simdoc)\n",
    "(inputs, geom, label), unprocessor = arrayloader(simdoc)\n",
    "ungeom, uninput, unlabel = unprocessor(geom), unprocessor(inputs[0]), unprocessor(label)\n",
    "\n",
    "diff = orig_label-unlabel\n",
    "print('min: ', np.amin(diff))\n",
    "print('max: ', np.amax(diff))\n",
    "print('mean: ', np.mean(diff))\n",
    "print('std: ', np.std(diff))\n",
    "\n",
    "print('orig coordsys: ', unprocessor.orig_csys)\n",
    "print('new coordsys:  ', unprocessor.proc_csys)\n",
    "plt.close('all')\n",
    "draw_coordsys(orig_geom, orig_label, geom, label, unprocessor)\n",
    "\n",
    "%aimport mcdose.visualize\n",
    "from mcdose.visualize import create_volume_dose_figure\n",
    "#stackarr =  np.stack([\n",
    "#        np.stack([\n",
    "#            orig_label[sliceidx,...],\n",
    "#            unlabel[sliceidx,...],\n",
    "#            orig_label[sliceidx,...]-unlabel[sliceidx,...]\n",
    "#        ], axis=0) for sliceidx in range(orig_label.shape[0])\n",
    "#    ], axis=0)\n",
    "#fig = create_volume_dose_figure( stackarr, dpi=200, return_fig=True, col_labels=['orig', 'unproc', 'orig-unproc'])\n",
    "if False:\n",
    "    sp = unprocessor.proc_csys['start'][2]\n",
    "    so = unprocessor.orig_csys['start'][2]\n",
    "    sizep = unprocessor.proc_csys['size'][2]\n",
    "    spacep = unprocessor.proc_csys['spacing'][2]\n",
    "    spaceo = unprocessor.orig_csys['spacing'][2]\n",
    "    orig_ctr_slice = int((sp-so+0.5*sizep*spacep)/spaceo)\n",
    "    for ii, slicenum in enumerate(range(orig_ctr_slice-ctx+1, orig_ctr_slice+ctx+2)):\n",
    "        fig = plt.figure(figsize=(40,10))\n",
    "        ax2, ax2, ax3, ax4 = fig.subplots(1,4)\n",
    "        vmin, vmax = np.amin(orig_label[slicenum]), np.amax(orig_label[slicenum])\n",
    "        vis_slice(orig_geom[slicenum], orig_label[slicenum], thresh=1e-3, ax=ax1)\n",
    "        ax1.set_title('orig')\n",
    "        vis_slice(geom[ii], label[ii], thresh=1e-3, ax=ax2)\n",
    "        ax2.set_title('proc')\n",
    "        vis_slice(ungeom[slicenum], unlabel[slicenum], thresh=1e-1, ax=ax3)\n",
    "        ax3.set_title('unproc')\n",
    "        aims = vis_slice(orig_geom[slicenum], orig_label[slicenum]-unlabel[slicenum], thresh=1e-3, ax=ax4)\n",
    "        ax4.set_title('orig-unproc')\n",
    "        for ax in fig.axes:\n",
    "            for imidx, im in enumerate(ax.get_images()):\n",
    "                if imidx:\n",
    "                    im.set_clim(vmin, vmax)\n",
    "        plt.colorbar(aims[1][1])"
   ]
  },
  {
   "cell_type": "markdown",
   "metadata": {},
   "source": [
    "# Interp (order=0)\n",
    "* min:  -1212.7460182380491\n",
    "* max:  2522.6562094405235\n",
    "* mean:  0.11259289129716582\n",
    "* std:  5.02720987591336\n",
    "# Interp (order=1)\n",
    "* min:  -350.08847751130423\n",
    "* max:  2522.6562094405235\n",
    "* mean:  0.11226965856608262\n",
    "* std:  4.784998557642218\n",
    "# INTERP (order=2)\n",
    "* min:  -240.4294985444228\n",
    "* max:  2522.6562094405235\n",
    "* mean:  0.11269426521718186\n",
    "* std:  4.114490449412109"
   ]
  }
 ],
 "metadata": {
  "kernelspec": {
   "display_name": "Python 3",
   "language": "python",
   "name": "python3"
  },
  "language_info": {
   "codemirror_mode": {
    "name": "ipython",
    "version": 3
   },
   "file_extension": ".py",
   "mimetype": "text/x-python",
   "name": "python",
   "nbconvert_exporter": "python",
   "pygments_lexer": "ipython3",
   "version": "3.6.8"
  }
 },
 "nbformat": 4,
 "nbformat_minor": 4
}
