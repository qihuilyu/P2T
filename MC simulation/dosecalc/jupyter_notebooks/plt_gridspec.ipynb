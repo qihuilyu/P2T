{
 "cells": [
  {
   "cell_type": "code",
   "execution_count": 2,
   "metadata": {},
   "outputs": [],
   "source": [
    "import matplotlib.pyplot as plt\n",
    "import matplotlib.gridspec as gridspec"
   ]
  },
  {
   "cell_type": "code",
   "execution_count": 63,
   "metadata": {},
   "outputs": [
    {
     "data": {
      "image/png": "[encoded data removed]",
      "text/plain": [
       "<Figure size 432x288 with 7 Axes>"
      ]
     },
     "metadata": {},
     "output_type": "display_data"
    }
   ],
   "source": [
    "fig = plt.figure()\n",
    "fig.set_facecolor('gray')\n",
    "spec = gridspec.GridSpec(\n",
    "    ncols=3, nrows=3, \n",
    "    width_ratios=[0.45, 0.45, 0.1],\n",
    "    wspace=0,\n",
    "    hspace=0,\n",
    "    figure=fig)\n",
    "im_axes = []\n",
    "\n",
    "ax = fig.add_subplot(spec[0, 0])\n",
    "ax.set_facecolor('red')\n",
    "im_axes.append(ax)\n",
    "ax = fig.add_subplot(spec[0, 1])\n",
    "ax.set_facecolor('blue')\n",
    "im_axes.append(ax)\n",
    "\n",
    "ax = fig.add_subplot(spec[1, 0])\n",
    "ax.set_facecolor('orange')\n",
    "im_axes.append(ax)\n",
    "ax = fig.add_subplot(spec[1, 1])\n",
    "ax.set_facecolor('yellow')\n",
    "im_axes.append(ax)\n",
    "\n",
    "ax = fig.add_subplot(spec[2, 0])\n",
    "ax.set_facecolor('lime')\n",
    "im_axes.append(ax)\n",
    "ax = fig.add_subplot(spec[2, 1])\n",
    "ax.set_facecolor('cyan')\n",
    "im_axes.append(ax)\n",
    "\n",
    "ax = fig.add_subplot(spec[:, 2])\n",
    "ax.set_facecolor('green')\n",
    "\n",
    "for ax in fig.axes:\n",
    "    ax.set_xticks([])\n",
    "    ax.set_yticks([])\n",
    "# for ax in im_axes:\n",
    "#    ax.set_aspect('equal', anchor='C')\n",
    "        \n",
    "plt.show()"
   ]
  },
  {
   "cell_type": "code",
   "execution_count": null,
   "metadata": {},
   "outputs": [],
   "source": []
  }
 ],
 "metadata": {
  "kernelspec": {
   "display_name": "Python 3",
   "language": "python",
   "name": "python3"
  },
  "language_info": {
   "codemirror_mode": {
    "name": "ipython",
    "version": 3
   },
   "file_extension": ".py",
   "mimetype": "text/x-python",
   "name": "python",
   "nbconvert_exporter": "python",
   "pygments_lexer": "ipython3",
   "version": "3.6.8"
  }
 },
 "nbformat": 4,
 "nbformat_minor": 4
}
