{
 "cells": [
  {
   "cell_type": "code",
   "execution_count": 24,
   "metadata": {},
   "outputs": [
    {
     "name": "stdout",
     "output_type": "stream",
     "text": [
      "The autoreload extension is already loaded. To reload it, use:\n",
      "  %reload_ext autoreload\n"
     ]
    }
   ],
   "source": [
    "%load_ext autoreload\n",
    "%autoreload 1"
   ]
  },
  {
   "cell_type": "code",
   "execution_count": 230,
   "metadata": {},
   "outputs": [
    {
     "name": "stdout",
     "output_type": "stream",
     "text": [
      "cwd:  /home/ryan/projects/MCDoseDenoiser/dosecalc/jupyter_notebooks\n"
     ]
    }
   ],
   "source": [
    "import os, sys\n",
    "from os.path import join as pjoin\n",
    "print('cwd: ', os.getcwd())\n",
    "sys.path.insert(0, pjoin(os.path.pardir, 'webapi'))\n",
    "sys.path.insert(0, pjoin(os.path.pardir, os.path.pardir, 'mcdose'))\n",
    "import numpy as np\n",
    "import h5py\n",
    "from matplotlib.colors import Normalize\n",
    "import matplotlib.pyplot as plt\n",
    "from tqdm import tqdm\n",
    "\n",
    "os.environ['CUDA_VISIBLE_DEVICES'] = \"\"\n",
    "%aimport mcdose"
   ]
  },
  {
   "cell_type": "code",
   "execution_count": 234,
   "metadata": {},
   "outputs": [],
   "source": [
    "%aimport mcdose.visualize\n",
    "from mcdose.visualize import vis_slice"
   ]
  },
  {
   "cell_type": "code",
   "execution_count": 235,
   "metadata": {},
   "outputs": [
    {
     "name": "stderr",
     "output_type": "stream",
     "text": [
      "Config loaded from \"/media/hdd1/g4sim/runs_shenggpu2/0008/config.yml\"\n",
      "Failed to reload model checkpoint from \"/media/hdd1/g4sim/runs_shenggpu2/0008/checkpoints/weights.hdf5\"\n"
     ]
    },
    {
     "ename": "ValueError",
     "evalue": "You are trying to load a weight file containing 31 layers into a model with 17 layers.",
     "output_type": "error",
     "traceback": [
      "\u001b[0;31m---------------------------------------------------------------------------\u001b[0m",
      "\u001b[0;31mValueError\u001b[0m                                Traceback (most recent call last)",
      "\u001b[0;32m<ipython-input-235-78ca741be7f9>\u001b[0m in \u001b[0;36m<module>\u001b[0;34m\u001b[0m\n\u001b[1;32m     10\u001b[0m     \u001b[0mconfig\u001b[0m\u001b[0;34m=\u001b[0m\u001b[0;34m'/media/hdd1/g4sim/runs_shenggpu2/0008/config.yml'\u001b[0m\u001b[0;34m,\u001b[0m\u001b[0;34m\u001b[0m\u001b[0;34m\u001b[0m\u001b[0m\n\u001b[1;32m     11\u001b[0m     \u001b[0mweights\u001b[0m\u001b[0;34m=\u001b[0m\u001b[0;34m'/media/hdd1/g4sim/runs_shenggpu2/0008/checkpoints/weights.hdf5'\u001b[0m\u001b[0;34m,\u001b[0m\u001b[0;34m\u001b[0m\u001b[0;34m\u001b[0m\u001b[0m\n\u001b[0;32m---> 12\u001b[0;31m     \u001b[0mnormstats\u001b[0m\u001b[0;34m=\u001b[0m\u001b[0mstats_file\u001b[0m\u001b[0;34m,\u001b[0m\u001b[0;34m\u001b[0m\u001b[0;34m\u001b[0m\u001b[0m\n\u001b[0m\u001b[1;32m     13\u001b[0m )\n\u001b[1;32m     14\u001b[0m \u001b[0;32mwith\u001b[0m \u001b[0mopen\u001b[0m\u001b[0;34m(\u001b[0m\u001b[0mstats_file\u001b[0m\u001b[0;34m,\u001b[0m \u001b[0;34m'r'\u001b[0m\u001b[0;34m)\u001b[0m \u001b[0;32mas\u001b[0m \u001b[0mfd\u001b[0m\u001b[0;34m:\u001b[0m\u001b[0;34m\u001b[0m\u001b[0;34m\u001b[0m\u001b[0m\n",
      "\u001b[0;32m~/projects/MCDoseDenoiser/mcdose/mcdose/__main__.py\u001b[0m in \u001b[0;36mget_trained_model\u001b[0;34m(config, weights, normstats, distribute_strategy)\u001b[0m\n\u001b[1;32m    415\u001b[0m         \u001b[0mdistribute_strategy\u001b[0m \u001b[0;34m=\u001b[0m \u001b[0mdefault_distribute_strategy\u001b[0m\u001b[0;34m(\u001b[0m\u001b[0;34m)\u001b[0m\u001b[0;34m\u001b[0m\u001b[0;34m\u001b[0m\u001b[0m\n\u001b[1;32m    416\u001b[0m \u001b[0;34m\u001b[0m\u001b[0m\n\u001b[0;32m--> 417\u001b[0;31m     \u001b[0mmodel\u001b[0m \u001b[0;34m=\u001b[0m \u001b[0mcreate_model\u001b[0m\u001b[0;34m(\u001b[0m\u001b[0mconfig\u001b[0m\u001b[0;34m,\u001b[0m \u001b[0mdistribute_strategy\u001b[0m\u001b[0;34m,\u001b[0m \u001b[0mload_model\u001b[0m\u001b[0;34m=\u001b[0m\u001b[0;34m'force'\u001b[0m\u001b[0;34m,\u001b[0m \u001b[0mcheckpointdir\u001b[0m\u001b[0;34m=\u001b[0m\u001b[0mweights\u001b[0m\u001b[0;34m)\u001b[0m\u001b[0;34m\u001b[0m\u001b[0;34m\u001b[0m\u001b[0m\n\u001b[0m\u001b[1;32m    418\u001b[0m \u001b[0;34m\u001b[0m\u001b[0m\n\u001b[1;32m    419\u001b[0m     \u001b[0;31m# Wrap model with normalization prestage matching that from training\u001b[0m\u001b[0;34m\u001b[0m\u001b[0;34m\u001b[0m\u001b[0;34m\u001b[0m\u001b[0m\n",
      "\u001b[0;32m~/projects/MCDoseDenoiser/mcdose/mcdose/__main__.py\u001b[0m in \u001b[0;36mcreate_model\u001b[0;34m(modelconfig, distribute_strategy, load_model, checkpointdir)\u001b[0m\n\u001b[1;32m    313\u001b[0m \u001b[0;34m\u001b[0m\u001b[0m\n\u001b[1;32m    314\u001b[0m             \u001b[0;32mtry\u001b[0m\u001b[0;34m:\u001b[0m\u001b[0;34m\u001b[0m\u001b[0;34m\u001b[0m\u001b[0m\n\u001b[0;32m--> 315\u001b[0;31m                 \u001b[0mmodel\u001b[0m\u001b[0;34m.\u001b[0m\u001b[0mload_weights\u001b[0m\u001b[0;34m(\u001b[0m\u001b[0mmodel_path\u001b[0m\u001b[0;34m)\u001b[0m\u001b[0;34m\u001b[0m\u001b[0;34m\u001b[0m\u001b[0m\n\u001b[0m\u001b[1;32m    316\u001b[0m                 \u001b[0mlogger\u001b[0m\u001b[0;34m.\u001b[0m\u001b[0minfo\u001b[0m\u001b[0;34m(\u001b[0m\u001b[0;34m'Loaded model from \"{}\"'\u001b[0m\u001b[0;34m.\u001b[0m\u001b[0mformat\u001b[0m\u001b[0;34m(\u001b[0m\u001b[0mmodel_path\u001b[0m\u001b[0;34m)\u001b[0m\u001b[0;34m)\u001b[0m\u001b[0;34m\u001b[0m\u001b[0;34m\u001b[0m\u001b[0m\n\u001b[1;32m    317\u001b[0m             \u001b[0;32mexcept\u001b[0m \u001b[0mException\u001b[0m \u001b[0;32mas\u001b[0m \u001b[0me\u001b[0m\u001b[0;34m:\u001b[0m\u001b[0;34m\u001b[0m\u001b[0;34m\u001b[0m\u001b[0m\n",
      "\u001b[0;32m~/projects/MCDoseDenoiser/dosecalc/venv/lib/python3.6/site-packages/tensorflow_core/python/keras/engine/training.py\u001b[0m in \u001b[0;36mload_weights\u001b[0;34m(self, filepath, by_name, skip_mismatch)\u001b[0m\n\u001b[1;32m    232\u001b[0m         raise ValueError('Load weights is not yet supported with TPUStrategy '\n\u001b[1;32m    233\u001b[0m                          'with steps_per_run greater than 1.')\n\u001b[0;32m--> 234\u001b[0;31m     \u001b[0;32mreturn\u001b[0m \u001b[0msuper\u001b[0m\u001b[0;34m(\u001b[0m\u001b[0mModel\u001b[0m\u001b[0;34m,\u001b[0m \u001b[0mself\u001b[0m\u001b[0;34m)\u001b[0m\u001b[0;34m.\u001b[0m\u001b[0mload_weights\u001b[0m\u001b[0;34m(\u001b[0m\u001b[0mfilepath\u001b[0m\u001b[0;34m,\u001b[0m \u001b[0mby_name\u001b[0m\u001b[0;34m,\u001b[0m \u001b[0mskip_mismatch\u001b[0m\u001b[0;34m)\u001b[0m\u001b[0;34m\u001b[0m\u001b[0;34m\u001b[0m\u001b[0m\n\u001b[0m\u001b[1;32m    235\u001b[0m \u001b[0;34m\u001b[0m\u001b[0m\n\u001b[1;32m    236\u001b[0m   \u001b[0;34m@\u001b[0m\u001b[0mtrackable\u001b[0m\u001b[0;34m.\u001b[0m\u001b[0mno_automatic_dependency_tracking\u001b[0m\u001b[0;34m\u001b[0m\u001b[0;34m\u001b[0m\u001b[0m\n",
      "\u001b[0;32m~/projects/MCDoseDenoiser/dosecalc/venv/lib/python3.6/site-packages/tensorflow_core/python/keras/engine/network.py\u001b[0m in \u001b[0;36mload_weights\u001b[0;34m(self, filepath, by_name, skip_mismatch)\u001b[0m\n\u001b[1;32m   1220\u001b[0m             f, self.layers, skip_mismatch=skip_mismatch)\n\u001b[1;32m   1221\u001b[0m       \u001b[0;32melse\u001b[0m\u001b[0;34m:\u001b[0m\u001b[0;34m\u001b[0m\u001b[0;34m\u001b[0m\u001b[0m\n\u001b[0;32m-> 1222\u001b[0;31m         \u001b[0mhdf5_format\u001b[0m\u001b[0;34m.\u001b[0m\u001b[0mload_weights_from_hdf5_group\u001b[0m\u001b[0;34m(\u001b[0m\u001b[0mf\u001b[0m\u001b[0;34m,\u001b[0m \u001b[0mself\u001b[0m\u001b[0;34m.\u001b[0m\u001b[0mlayers\u001b[0m\u001b[0;34m)\u001b[0m\u001b[0;34m\u001b[0m\u001b[0;34m\u001b[0m\u001b[0m\n\u001b[0m\u001b[1;32m   1223\u001b[0m \u001b[0;34m\u001b[0m\u001b[0m\n\u001b[1;32m   1224\u001b[0m   \u001b[0;32mdef\u001b[0m \u001b[0m_updated_config\u001b[0m\u001b[0;34m(\u001b[0m\u001b[0mself\u001b[0m\u001b[0;34m)\u001b[0m\u001b[0;34m:\u001b[0m\u001b[0;34m\u001b[0m\u001b[0;34m\u001b[0m\u001b[0m\n",
      "\u001b[0;32m~/projects/MCDoseDenoiser/dosecalc/venv/lib/python3.6/site-packages/tensorflow_core/python/keras/saving/hdf5_format.py\u001b[0m in \u001b[0;36mload_weights_from_hdf5_group\u001b[0;34m(f, layers)\u001b[0m\n\u001b[1;32m    675\u001b[0m                      \u001b[0;34m'containing '\u001b[0m \u001b[0;34m+\u001b[0m \u001b[0mstr\u001b[0m\u001b[0;34m(\u001b[0m\u001b[0mlen\u001b[0m\u001b[0;34m(\u001b[0m\u001b[0mlayer_names\u001b[0m\u001b[0;34m)\u001b[0m\u001b[0;34m)\u001b[0m \u001b[0;34m+\u001b[0m\u001b[0;34m\u001b[0m\u001b[0;34m\u001b[0m\u001b[0m\n\u001b[1;32m    676\u001b[0m                      \u001b[0;34m' layers into a model with '\u001b[0m \u001b[0;34m+\u001b[0m \u001b[0mstr\u001b[0m\u001b[0;34m(\u001b[0m\u001b[0mlen\u001b[0m\u001b[0;34m(\u001b[0m\u001b[0mfiltered_layers\u001b[0m\u001b[0;34m)\u001b[0m\u001b[0;34m)\u001b[0m \u001b[0;34m+\u001b[0m\u001b[0;34m\u001b[0m\u001b[0;34m\u001b[0m\u001b[0m\n\u001b[0;32m--> 677\u001b[0;31m                      ' layers.')\n\u001b[0m\u001b[1;32m    678\u001b[0m \u001b[0;34m\u001b[0m\u001b[0m\n\u001b[1;32m    679\u001b[0m   \u001b[0;31m# We batch weight value assignments in a single backend call\u001b[0m\u001b[0;34m\u001b[0m\u001b[0;34m\u001b[0m\u001b[0;34m\u001b[0m\u001b[0m\n",
      "\u001b[0;31mValueError\u001b[0m: You are trying to load a weight file containing 31 layers into a model with 17 layers."
     ]
    }
   ],
   "source": [
    "from mcdose import get_trained_model\n",
    "import json\n",
    "import logging\n",
    "mcdoselogger = logging.getLogger('MCDose')\n",
    "mcdoselogger.addHandler(logging.StreamHandler())\n",
    "mcdoselogger.setLevel(logging.DEBUG)\n",
    "stats_file = '/media/hdd1/g4sim/runs_shenggpu2/0008/normstats.json'\n",
    "\n",
    "model = get_trained_model(\n",
    "    config='/media/hdd1/g4sim/runs_shenggpu2/0008/config.yml',\n",
    "    weights='/media/hdd1/g4sim/runs_shenggpu2/0008/checkpoints/weights.hdf5',\n",
    "    normstats=stats_file,\n",
    ")\n",
    "with open(stats_file, 'r') as fd:\n",
    "    normstats = json.load(fd)"
   ]
  },
  {
   "cell_type": "code",
   "execution_count": 5,
   "metadata": {},
   "outputs": [],
   "source": [
    "def predict(inputs):\n",
    "    factors = np.array(normstats['factor'][1:])[None, None, None, None, ...]\n",
    "    inputs = np.multiply(inputs, factors)\n",
    "    preds = model(inputs.astype(np.float32))\n",
    "    return np.divide(preds[0, ..., 0], factors[...,0]) # prune sample/channel axes"
   ]
  },
  {
   "cell_type": "code",
   "execution_count": 7,
   "metadata": {},
   "outputs": [
    {
     "name": "stdout",
     "output_type": "stream",
     "text": [
      "(527, 41, 101, 41)\n",
      "(527, 41, 101, 41, 2)\n",
      "(527, 41, 101, 41)\n"
     ]
    }
   ],
   "source": [
    "data = np.load('/media/hdd1/g4sim/traindata/traindata_2020feb23_2k_20ctx_norm/validate/test_014.npy')\n",
    "labels, inputs = data[...,0], data[...,1:]\n",
    "\n",
    "import os\n",
    "if os.path.exists('preds.npy'):\n",
    "    preds = np.load('preds.npy')\n",
    "else:\n",
    "    from math import ceil\n",
    "    batch_size = 1\n",
    "    preds = np.zeros(inputs.shape[:-1])\n",
    "    for batch_id in tqdm(range(ceil(len(labels)/batch_size))):\n",
    "        batch_slice = slice(batch_id*batch_size, min(len(labels), (batch_id+1)*batch_size))\n",
    "        xzslice = slice(10, 31)\n",
    "        preds[batch_slice, xzslice, :, xzslice] = predict(inputs[batch_slice, xzslice, :, xzslice])\n",
    "    np.save('preds.npy', preds)\n",
    "print(labels.shape)\n",
    "print(inputs.shape)\n",
    "print(preds.shape)"
   ]
  },
  {
   "cell_type": "code",
   "execution_count": 226,
   "metadata": {},
   "outputs": [],
   "source": [
    "%aimport mcdose\n",
    "import mcdose.losses\n",
    "\n",
    "loss_fn = losses.WeightedLoss(loss_cb=losses.meanabsoluteerror, weight_cb=losses.threshold_weight(thresh=0.02, mask_cval=0.0001))\n",
    "weights = loss_fn.weight_cb(labels[0, None, ...,None], inputs[0, None,...,0, None])\n",
    "loss = loss_fn(labels[None,0,...,None], preds[None,0,...,None])"
   ]
  },
  {
   "cell_type": "code",
   "execution_count": 227,
   "metadata": {},
   "outputs": [
    {
     "name": "stdout",
     "output_type": "stream",
     "text": [
      "0.118346274\n",
      "(1, 41, 101, 41, 1)\n"
     ]
    },
    {
     "data": {
      "image/png": "[encoded data removed]",
      "text/plain": [
       "<Figure size 432x288 with 2 Axes>"
      ]
     },
     "metadata": {
      "needs_background": "light"
     },
     "output_type": "display_data"
    },
    {
     "data": {
      "image/png": "[encoded data removed]",
      "text/plain": [
       "<Figure size 432x288 with 2 Axes>"
      ]
     },
     "metadata": {
      "needs_background": "light"
     },
     "output_type": "display_data"
    },
    {
     "data": {
      "image/png": "[encoded data removed]",
      "text/plain": [
       "<Figure size 432x288 with 2 Axes>"
      ]
     },
     "metadata": {
      "needs_background": "light"
     },
     "output_type": "display_data"
    },
    {
     "data": {
      "image/png": "[encoded data removed]",
      "text/plain": [
       "<Figure size 432x288 with 2 Axes>"
      ]
     },
     "metadata": {
      "needs_background": "light"
     },
     "output_type": "display_data"
    },
    {
     "data": {
      "image/png": "[encoded data removed]",
      "text/plain": [
       "<Figure size 432x288 with 2 Axes>"
      ]
     },
     "metadata": {
      "needs_background": "light"
     },
     "output_type": "display_data"
    },
    {
     "data": {
      "image/png": "[encoded data removed]",
      "text/plain": [
       "<Figure size 432x288 with 2 Axes>"
      ]
     },
     "metadata": {
      "needs_background": "light"
     },
     "output_type": "display_data"
    },
    {
     "data": {
      "image/png": "[encoded data removed]",
      "text/plain": [
       "<Figure size 432x288 with 2 Axes>"
      ]
     },
     "metadata": {
      "needs_background": "light"
     },
     "output_type": "display_data"
    }
   ],
   "source": [
    "print(loss.numpy())\n",
    "print(weights.shape)\n",
    "for ii in range(17, 24):\n",
    "    fig = plt.figure()\n",
    "    plt.imshow(weights[0, ii, ..., 0], vmin=0, vmax=1)\n",
    "    plt.colorbar()\n",
    "    plt.show()\n"
   ]
  },
  {
   "cell_type": "code",
   "execution_count": null,
   "metadata": {},
   "outputs": [],
   "source": []
  },
  {
   "cell_type": "code",
   "execution_count": 257,
   "metadata": {},
   "outputs": [],
   "source": [
    "data = np.load('/media/hdd1/g4sim/traindata/traindata_2020feb26_2k_20ctx_norm/train/train_014.npy')\n",
    "labels, inputs = data[...,0], data[...,1:]"
   ]
  },
  {
   "cell_type": "code",
   "execution_count": 258,
   "metadata": {},
   "outputs": [
    {
     "name": "stderr",
     "output_type": "stream",
     "text": [
      "/home/ryan/projects/MCDoseDenoiser/dosecalc/venv/lib/python3.6/site-packages/ipykernel_launcher.py:6: RuntimeWarning: overflow encountered in exp\n",
      "  \n"
     ]
    },
    {
     "name": "stdout",
     "output_type": "stream",
     "text": [
      "Function Fit: 908.260*exp(-7.986*x+9.025) + 3623.419\n"
     ]
    },
    {
     "data": {
      "image/png": "[encoded data removed]",
      "text/plain": [
       "<Figure size 720x360 with 1 Axes>"
      ]
     },
     "metadata": {
      "needs_background": "light"
     },
     "output_type": "display_data"
    }
   ],
   "source": [
    "# Fit data distribution to exponential curve to find loss weighting decay rate\n",
    "from scipy.optimize import curve_fit\n",
    "\n",
    "def exp_fn():\n",
    "    def fit_function(x, A, rate, C, B):\n",
    "        return A*np.exp(-rate*x+C) + B\n",
    "    fmt = '{:0.3f}*exp(-{:0.3f}*x+{:0.3f}) + {:0.3f}'\n",
    "    return fit_function, fmt\n",
    "\n",
    "def power_fn():\n",
    "    def fit_function(x, A, e, C):\n",
    "        return A*x**(-e)+C\n",
    "    fmt = '{:0.3f}*x**(-{:0.3f}) + {:0.3f}'\n",
    "    return fit_function, fmt\n",
    "\n",
    "fit_function, fmt = exp_fn()\n",
    "#fit_function, fmt = power_fn()\n",
    "\n",
    "dmax = np.amax(labels)\n",
    "bins = np.linspace(0, dmax, 300)\n",
    "bincenters = np.array([0.5*(bins[i]+bins[i+1]) for i in range(len(bins)-1)])\n",
    "\n",
    "data1, bins1 = np.histogram(np.ravel(labels[:1000]), bins=bins)\n",
    "popt, pcov = curve_fit(fit_function, xdata=bincenters, ydata=data1)\n",
    "print(\"Function Fit: \"+fmt.format(*popt))\n",
    "\n",
    "# plot fit function\n",
    "xspace = np.linspace(0, dmax, 100000)\n",
    "fity = fit_function(xspace, *popt)\n",
    "\n",
    "\n",
    "fig = plt.figure(figsize=(10,5))\n",
    "plt.bar(bins1[:-1], data1)\n",
    "plt.plot(xspace, fity, c='red')\n",
    "plt.yscale('log')"
   ]
  },
  {
   "cell_type": "code",
   "execution_count": 244,
   "metadata": {},
   "outputs": [],
   "source": [
    "# Test Log Normalization"
   ]
  },
  {
   "cell_type": "code",
   "execution_count": 297,
   "metadata": {},
   "outputs": [
    {
     "name": "stdout",
     "output_type": "stream",
     "text": [
      "-0.10846616\n"
     ]
    }
   ],
   "source": [
    "data = np.load('/media/hdd1/g4sim/traindata/traindata_2020feb28_20k_14ctx_norm/train/train_000.npy')"
   ]
  },
  {
   "cell_type": "code",
   "execution_count": 298,
   "metadata": {},
   "outputs": [
    {
     "name": "stdout",
     "output_type": "stream",
     "text": [
      "-0.10846616\n",
      "40.41266\n"
     ]
    }
   ],
   "source": [
    "\n",
    "#log_labels, log_inputs, geom = np.log(data[...,0]), np.log(data[...,1]), data[...,2]\n",
    "labels = data[...,0]\n",
    "print(np.amin(labels))\n",
    "print(np.amax(labels))\n",
    "bins = np.linspace(np.amin(labels), np.amax(labels), 6000)\n",
    "hdata, hbins = np.histogram(np.ravel(labels), bins=bins)"
   ]
  },
  {
   "cell_type": "code",
   "execution_count": 299,
   "metadata": {},
   "outputs": [
    {
     "data": {
      "image/png": "[encoded data removed]",
      "text/plain": [
       "<Figure size 432x288 with 1 Axes>"
      ]
     },
     "metadata": {
      "needs_background": "light"
     },
     "output_type": "display_data"
    }
   ],
   "source": [
    "plt.bar(hbins[:-1], hdata)\n",
    "plt.yscale('log')"
   ]
  },
  {
   "cell_type": "code",
   "execution_count": 325,
   "metadata": {},
   "outputs": [
    {
     "name": "stdout",
     "output_type": "stream",
     "text": [
      "0.0 40.41266\n"
     ]
    },
    {
     "name": "stderr",
     "output_type": "stream",
     "text": [
      "/home/ryan/projects/MCDoseDenoiser/dosecalc/venv/lib/python3.6/site-packages/ipykernel_launcher.py:3: RuntimeWarning: invalid value encountered in log\n",
      "  This is separate from the ipykernel package so we can avoid doing imports until\n"
     ]
    },
    {
     "name": "stdout",
     "output_type": "stream",
     "text": [
      "-20.723267\n",
      "3.6991432\n"
     ]
    }
   ],
   "source": [
    "labels = data[...,0]\n",
    "print(np.amin(labels), np.amax(labels))\n",
    "log_labels, log_inputs, geom = np.log((labels)+1e-9), np.log(data[...,1]+1e-9), data[...,2]\n",
    "print(np.amin(log_labels))\n",
    "print(np.amax(log_labels))\n",
    "bins = np.linspace(np.amin(log_labels), np.amax(log_labels), 1000)\n",
    "hdata, hbins = np.histogram(np.ravel(log_labels), bins=bins)\n",
    "hdata2, hbins2 = np.histogram(np.ravel(log_inputs), bins=bins)"
   ]
  },
  {
   "cell_type": "code",
   "execution_count": 327,
   "metadata": {},
   "outputs": [
    {
     "data": {
      "image/png": "[encoded data removed]",
      "text/plain": [
       "<Figure size 432x288 with 1 Axes>"
      ]
     },
     "metadata": {
      "needs_background": "light"
     },
     "output_type": "display_data"
    }
   ],
   "source": [
    "plt.bar(hbins[:-1], hdata, edgecolor='orange', color='none',zorder=99, width=hbins[1:]-hbins[:-1])\n",
    "plt.bar(hbins2[:-1], hdata2, width=hbins2[1:]-hbins2[:-1])\n",
    "plt.yscale('log')"
   ]
  },
  {
   "cell_type": "code",
   "execution_count": null,
   "metadata": {},
   "outputs": [],
   "source": []
  }
 ],
 "metadata": {
  "kernelspec": {
   "display_name": "Python 3",
   "language": "python",
   "name": "python3"
  },
  "language_info": {
   "codemirror_mode": {
    "name": "ipython",
    "version": 3
   },
   "file_extension": ".py",
   "mimetype": "text/x-python",
   "name": "python",
   "nbconvert_exporter": "python",
   "pygments_lexer": "ipython3",
   "version": "3.6.8"
  }
 },
 "nbformat": 4,
 "nbformat_minor": 4
}
